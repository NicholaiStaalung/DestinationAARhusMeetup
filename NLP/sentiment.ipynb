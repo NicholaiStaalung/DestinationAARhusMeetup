{
 "cells": [
  {
   "cell_type": "code",
   "execution_count": null,
   "metadata": {},
   "outputs": [],
   "source": [
    "from google.cloud import language_v1\n",
    "from google.cloud.language_v1 import enums\n",
    "import six\n",
    "\n",
    "\n",
    "def sample_analyze_sentiment(content):\n",
    "\n",
    "    client = language_v1.LanguageServiceClient()\n",
    "\n",
    "    if isinstance(content, six.binary_type):\n",
    "        content = content.decode('utf-8')\n",
    "\n",
    "    type_ = enums.Document.Type.PLAIN_TEXT\n",
    "    document = {'type': type_, 'content': content}\n",
    "\n",
    "    response = client.analyze_sentiment(document)\n",
    "    sentiment = response.document_sentiment\n",
    "    print('Score: {}'.format(sentiment.score))\n",
    "    print('Magnitude: {}'.format(sentiment.magnitude))"
   ]
  },
  {
   "cell_type": "code",
   "execution_count": null,
   "metadata": {},
   "outputs": [],
   "source": [
    "sample_analyze_sentiment('The battery life of this camera is too short.')"
   ]
  },
  {
   "cell_type": "code",
   "execution_count": null,
   "metadata": {},
   "outputs": [],
   "source": [
    "sample_analyze_sentiment('The picture quality of camera A is poor.')"
   ]
  },
  {
   "cell_type": "code",
   "execution_count": null,
   "metadata": {},
   "outputs": [],
   "source": [
    "sample_analyze_sentiment('The picture quality of camera A is worse than that of camera B.')"
   ]
  },
  {
   "cell_type": "code",
   "execution_count": null,
   "metadata": {},
   "outputs": [],
   "source": []
  },
  {
   "cell_type": "code",
   "execution_count": null,
   "metadata": {},
   "outputs": [],
   "source": []
  }
 ],
 "metadata": {
  "kernelspec": {
   "display_name": "Python 3",
   "language": "python",
   "name": "python3"
  },
  "language_info": {
   "codemirror_mode": {
    "name": "ipython",
    "version": 3
   },
   "file_extension": ".py",
   "mimetype": "text/x-python",
   "name": "python",
   "nbconvert_exporter": "python",
   "pygments_lexer": "ipython3",
   "version": "3.5.3"
  }
 },
 "nbformat": 4,
 "nbformat_minor": 4
}
