{
 "cells": [
  {
   "cell_type": "code",
   "execution_count": null,
   "metadata": {},
   "outputs": [],
   "source": [
    "import six, sys\n",
    "from google.cloud import language\n",
    "from google.cloud.language import enums\n",
    "from google.cloud.language import types\n",
    "\n",
    "text = 'Rose McGowan sues Weinstein over silencing attempts'\n",
    "\n",
    "# text = 'Turkey Syria offensive: Trump lifts Turkey sanctions after deal'\n",
    "\n",
    "\n",
    "client = language.LanguageServiceClient()\n",
    "\n",
    "if isinstance(text, six.binary_type):\n",
    "    text = text.decode('utf-8')\n",
    "\n",
    "document = types.Document(\n",
    "    content=text.encode('utf-8'),\n",
    "    type=enums.Document.Type.PLAIN_TEXT)\n",
    "\n",
    "# Detect and send native Python encoding to receive correct word offsets.\n",
    "encoding = enums.EncodingType.UTF32\n",
    "if sys.maxunicode == 65535:\n",
    "    encoding = enums.EncodingType.UTF16\n",
    "\n",
    "result = client.analyze_entity_sentiment(document, encoding)\n",
    "\n",
    "for entity in result.entities:\n",
    "    print('Mentions: ')\n",
    "    print(u'Name: \"{}\"'.format(entity.name))\n",
    "    for mention in entity.mentions:\n",
    "        print(u'  Begin Offset : {}'.format(mention.text.begin_offset))\n",
    "        print(u'  Content : {}'.format(mention.text.content))\n",
    "        print(u'  Magnitude : {}'.format(mention.sentiment.magnitude))\n",
    "        print(u'  Sentiment : {}'.format(mention.sentiment.score))\n",
    "        print(u'  Type : {}'.format(mention.type))\n",
    "    print(u'Salience: {}'.format(entity.salience))\n",
    "    print(u'Sentiment: {}\\n'.format(entity.sentiment))"
   ]
  },
  {
   "cell_type": "code",
   "execution_count": null,
   "metadata": {},
   "outputs": [],
   "source": []
  }
 ],
 "metadata": {
  "kernelspec": {
   "display_name": "Python 3",
   "language": "python",
   "name": "python3"
  },
  "language_info": {
   "codemirror_mode": {
    "name": "ipython",
    "version": 3
   },
   "file_extension": ".py",
   "mimetype": "text/x-python",
   "name": "python",
   "nbconvert_exporter": "python",
   "pygments_lexer": "ipython3",
   "version": "3.5.3"
  }
 },
 "nbformat": 4,
 "nbformat_minor": 4
}
