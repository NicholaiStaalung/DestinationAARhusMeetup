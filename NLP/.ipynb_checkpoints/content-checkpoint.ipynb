{
 "cells": [
  {
   "cell_type": "code",
   "execution_count": 1,
   "metadata": {},
   "outputs": [
    {
     "ename": "ImportError",
     "evalue": "cannot import name 'language'",
     "output_type": "error",
     "traceback": [
      "\u001b[0;31m---------------------------------------------------------------------------\u001b[0m",
      "\u001b[0;31mImportError\u001b[0m                               Traceback (most recent call last)",
      "\u001b[0;32m<ipython-input-1-1fef7a899e9b>\u001b[0m in \u001b[0;36m<module>\u001b[0;34m\u001b[0m\n\u001b[1;32m      1\u001b[0m \u001b[0;32mimport\u001b[0m \u001b[0msix\u001b[0m\u001b[0;34m\u001b[0m\u001b[0;34m\u001b[0m\u001b[0m\n\u001b[0;32m----> 2\u001b[0;31m \u001b[0;32mfrom\u001b[0m \u001b[0mgoogle\u001b[0m\u001b[0;34m.\u001b[0m\u001b[0mcloud\u001b[0m \u001b[0;32mimport\u001b[0m \u001b[0mlanguage\u001b[0m\u001b[0;34m\u001b[0m\u001b[0;34m\u001b[0m\u001b[0m\n\u001b[0m\u001b[1;32m      3\u001b[0m \u001b[0;32mfrom\u001b[0m \u001b[0mgoogle\u001b[0m\u001b[0;34m.\u001b[0m\u001b[0mcloud\u001b[0m\u001b[0;34m.\u001b[0m\u001b[0mlanguage\u001b[0m \u001b[0;32mimport\u001b[0m \u001b[0menums\u001b[0m\u001b[0;34m\u001b[0m\u001b[0;34m\u001b[0m\u001b[0m\n\u001b[1;32m      4\u001b[0m \u001b[0;32mfrom\u001b[0m \u001b[0mgoogle\u001b[0m\u001b[0;34m.\u001b[0m\u001b[0mcloud\u001b[0m\u001b[0;34m.\u001b[0m\u001b[0mlanguage\u001b[0m \u001b[0;32mimport\u001b[0m \u001b[0mtypes\u001b[0m\u001b[0;34m\u001b[0m\u001b[0;34m\u001b[0m\u001b[0m\n\u001b[1;32m      5\u001b[0m \u001b[0;34m\u001b[0m\u001b[0m\n",
      "\u001b[0;31mImportError\u001b[0m: cannot import name 'language'"
     ]
    }
   ],
   "source": [
    "import six\n",
    "from google.cloud import language\n",
    "from google.cloud.language import enums\n",
    "from google.cloud.language import types\n",
    "\n",
    "text = 'Android is a mobile operating system developed by Google, ' \\\n",
    "       'based on the Linux kernel and designed primarily for ' \\\n",
    "       'touchscreen mobile devices such as smartphones and tablets.'\n",
    "\n",
    "# text = 'The remains of Spanish dictator Francisco Franco are set ' \\\n",
    "#        'to be moved from a vast mausoleum to a low-key grave, 44 ' \\\n",
    "#        'years after his death. Thursdays long-awaited relocation ' \\\n",
    "#        'will fulfil a key pledge of the socialist government, which ' \\\n",
    "#        'said Spain should not continue to glorify a fascist who ruled ' \\\n",
    "#        'the country for nearly four decades.'\n",
    "\n",
    "# text = 'Do not stand at my grave and weep '\\\n",
    "#         'I am not there; I do not sleep.'\\\n",
    "#         'I am a thousand winds that blow, '\\\n",
    "#         'I am the diamond glints on snow, '\\\n",
    "#         'I am the sun on ripened grain, '\\\n",
    "#         'I am the gentle autumn rain. '\\\n",
    "#         'When you awaken in the mornings hush '\\\n",
    "#         'I am the swift uplifting rush '\\\n",
    "#         'Of quiet birds in circled flight. '\\\n",
    "#         'I am the soft stars that shine at night. '\\\n",
    "#         'Do not stand at my grave and cry, '\\\n",
    "#         'I am not there; I did not die. '\n",
    "\n",
    "    \n",
    "client = language.LanguageServiceClient()\n",
    "\n",
    "if isinstance(text, six.binary_type):\n",
    "    text = text.decode('utf-8')\n",
    "\n",
    "document = types.Document(\n",
    "    content=text.encode('utf-8'),\n",
    "    type=enums.Document.Type.PLAIN_TEXT)\n",
    "\n",
    "categories = client.classify_text(document).categories\n",
    "\n",
    "for category in categories:\n",
    "    print(u'=' * 20)\n",
    "    print(u'{:<16}: {}'.format('name', category.name))\n",
    "    print(u'{:<16}: {}'.format('confidence', category.confidence))"
   ]
  },
  {
   "cell_type": "code",
   "execution_count": null,
   "metadata": {},
   "outputs": [],
   "source": []
  }
 ],
 "metadata": {
  "kernelspec": {
   "display_name": "Python 3",
   "language": "python",
   "name": "python3"
  },
  "language_info": {
   "codemirror_mode": {
    "name": "ipython",
    "version": 3
   },
   "file_extension": ".py",
   "mimetype": "text/x-python",
   "name": "python",
   "nbconvert_exporter": "python",
   "pygments_lexer": "ipython3",
   "version": "3.6.8"
  }
 },
 "nbformat": 4,
 "nbformat_minor": 4
}
