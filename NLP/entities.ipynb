{
 "cells": [
  {
   "cell_type": "code",
   "execution_count": null,
   "metadata": {},
   "outputs": [],
   "source": [
    "import six\n",
    "from google.cloud import language\n",
    "from google.cloud.language import enums\n",
    "from google.cloud.language import types\n",
    "\n",
    "text = 'President Kennedy spoke at the White House.'\n",
    "\n",
    "# text = 'The Mona Lisa is a 16th century oil painting created by Leonardo. Its held at the Louvre in Paris.'\n",
    "\n",
    "# text = 'Iran shows it has the military powers to be an adversary that can keep the US off balance in any conflict'\n",
    "\n",
    "\n",
    "client = language.LanguageServiceClient()\n",
    "\n",
    "if isinstance(text, six.binary_type):\n",
    "    text = text.decode('utf-8')\n",
    "\n",
    "# Instantiates a plain text document.\n",
    "document = types.Document(\n",
    "    content=text,\n",
    "    type=enums.Document.Type.PLAIN_TEXT)\n",
    "\n",
    "# Detects entities in the document. You can also analyze HTML with:\n",
    "#   document.type == enums.Document.Type.HTML\n",
    "entities = client.analyze_entities(document).entities\n",
    "\n",
    "for entity in entities:\n",
    "    entity_type = enums.Entity.Type(entity.type)\n",
    "    print('=' * 20)\n",
    "    print(u'{:<16}: {}'.format('name', entity.name))\n",
    "    print(u'{:<16}: {}'.format('type', entity_type.name))\n",
    "    print(u'{:<16}: {}'.format('salience', entity.salience))\n",
    "    print(u'{:<16}: {}'.format('wikipedia_url',\n",
    "          entity.metadata.get('wikipedia_url', '-')))\n",
    "    print(u'{:<16}: {}'.format('mid', entity.metadata.get('mid', '-')))"
   ]
  },
  {
   "cell_type": "code",
   "execution_count": null,
   "metadata": {},
   "outputs": [],
   "source": []
  }
 ],
 "metadata": {
  "kernelspec": {
   "display_name": "Python 3",
   "language": "python",
   "name": "python3"
  },
  "language_info": {
   "codemirror_mode": {
    "name": "ipython",
    "version": 3
   },
   "file_extension": ".py",
   "mimetype": "text/x-python",
   "name": "python",
   "nbconvert_exporter": "python",
   "pygments_lexer": "ipython3",
   "version": "3.5.3"
  }
 },
 "nbformat": 4,
 "nbformat_minor": 4
}
